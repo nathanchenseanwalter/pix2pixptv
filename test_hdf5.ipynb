{
 "cells": [
  {
   "cell_type": "code",
   "execution_count": null,
   "metadata": {},
   "outputs": [],
   "source": [
    "import os\n",
    "from options.test_options import TestOptions\n",
    "from data import create_dataset\n",
    "from models import create_model\n",
    "import matplotlib.pyplot as plt\n",
    "import argparse\n",
    "import imageio\n",
    "from pathlib import Path\n",
    "import numpy as np\n",
    "import h5py"
   ]
  },
  {
   "cell_type": "code",
   "execution_count": null,
   "metadata": {},
   "outputs": [],
   "source": [
    "!python test.py --dataroot ../outputs/hdf5/img_2_img_full_test.h5 --name tv_inv_proof --model pix2pix --norm instance --direction BtoA --dataset_mode hdf5 --gpu_ids -1 --input_nc 1 --output_nc 1 --no_dropout --num_test 2802"
   ]
  },
  {
   "cell_type": "code",
   "execution_count": null,
   "metadata": {},
   "outputs": [],
   "source": [
    "class TestOptions:\n",
    "    def __init__(self):\n",
    "        self.phase = 'test'\n",
    "        self.dataroot = '../outputs/hdf5/img_2_img_full_tv.h5'\n",
    "        self.input_nc = 1\n",
    "        self.output_nc = 1\n",
    "        self.direction = 'BtoA'\n",
    "        self.dataset_mode = 'hdf5_test'\n",
    "        self.batch_size = 1\n",
    "        self.num_threads = 0\n",
    "        self.max_dataset_size = float(\"inf\")\n",
    "        self.model = 'pix2pix'\n",
    "        self.gpu_ids = [0]\n",
    "        self.isTrain = False\n",
    "        self.no_dropout = True\n",
    "        self.display_id = -1\n",
    "        self.num_threads = 0\n",
    "        self.batch_size = 1\n",
    "        self.eval = True\n",
    "        self.checkpoints_dir = './checkpoints'\n",
    "        self.name = 'tv_inv_proof'\n",
    "        self.preprocess = 'none'\n",
    "        self.ngf = 64\n",
    "        self.netD = 'basic'\n",
    "        self.netG = 'resnet_9blocks'\n",
    "        self.norm = 'instance'\n",
    "        self.init_type = \"normal\"\n",
    "        self.init_gain = 0.02\n",
    "        self.load_iter = 0\n",
    "        self.epoch = 'latest'\n",
    "        \n",
    "        \n",
    "opt = TestOptions()"
   ]
  },
  {
   "cell_type": "code",
   "execution_count": null,
   "metadata": {},
   "outputs": [],
   "source": [
    "print(len(dataset))"
   ]
  },
  {
   "cell_type": "code",
   "execution_count": null,
   "metadata": {},
   "outputs": [],
   "source": [
    "c = 200\n",
    "d = 0\n",
    "for data in dataset:\n",
    "    d += 1\n",
    "    a = data['A'][0][0]\n",
    "    if d == c:\n",
    "        break"
   ]
  },
  {
   "cell_type": "code",
   "execution_count": null,
   "metadata": {},
   "outputs": [],
   "source": [
    "plt.imshow(a)"
   ]
  },
  {
   "cell_type": "code",
   "execution_count": null,
   "metadata": {},
   "outputs": [],
   "source": [
    "!dir"
   ]
  },
  {
   "cell_type": "code",
   "execution_count": null,
   "metadata": {},
   "outputs": [],
   "source": [
    "import cv2\n",
    "image_dir = Path(\"results/tv_inv_proof/test_latest/images/\")\n",
    "\n",
    "# Get all the image files that end in \"fake_B\"\n",
    "image_files = list(image_dir.glob(\"*fake_B.png\"))\n",
    "\n",
    "# Create a list to store the images\n",
    "images = []\n",
    "\n",
    "# Read and append each image to the list\n",
    "for image_file in image_files:\n",
    "    image = plt.imread(image_file)\n",
    "    images.append(image)"
   ]
  },
  {
   "cell_type": "code",
   "execution_count": null,
   "metadata": {},
   "outputs": [],
   "source": [
    "h5_path = Path(\"../outputs/hdf5/img_2_img_full_test.h5\")\n",
    "with h5py.File(h5_path, \"r\") as f:\n",
    "    a = f[\"A_test\"][:]\n",
    "a = [np.flip(image, axis=0) for image in a]"
   ]
  },
  {
   "cell_type": "code",
   "execution_count": null,
   "metadata": {},
   "outputs": [],
   "source": [
    "# Convert images in a to black and white\n",
    "bw_images = []\n",
    "for image in images:\n",
    "    bw_image = cv2.cvtColor(image, cv2.COLOR_BGR2GRAY)\n",
    "    bw_images.append(bw_image)\n",
    "bw_images = [np.flip(image, axis=0) for image in bw_images]\n"
   ]
  },
  {
   "cell_type": "code",
   "execution_count": null,
   "metadata": {},
   "outputs": [],
   "source": [
    "print(bw_images[0].shape)"
   ]
  },
  {
   "cell_type": "code",
   "execution_count": null,
   "metadata": {},
   "outputs": [],
   "source": [
    "import matplotlib.gridspec as gridspec\n",
    "import matplotlib.animation as animation"
   ]
  },
  {
   "cell_type": "code",
   "execution_count": null,
   "metadata": {},
   "outputs": [],
   "source": [
    "# Create the figure and axes\n",
    "fig = plt.figure()\n",
    "gs0 = gridspec.GridSpec(1,2, figure=fig)\n",
    "\n",
    "ax1 = fig.add_subplot(gs0[0])\n",
    "ax2 = fig.add_subplot(gs0[1])\n",
    "\n",
    "img1 = ax1.imshow(bw_images[0], cmap='plasma')\n",
    "img2 = ax2.imshow(a[0], cmap='plasma')\n",
    "ax1.axis(\"off\")\n",
    "ax2.axis(\"off\")\n",
    "fig.subplots_adjust(\n",
    "    left=0, bottom=0.0, right=1, top=1, wspace=None, hspace=None\n",
    ")\n",
    "\n",
    "# # Define the update function for the animation\n",
    "def update(frame):\n",
    "    img1.set_array(bw_images[frame])\n",
    "    img2.set_array(a[frame])\n",
    "    return ax1, ax2\n",
    "\n",
    "# # Create the animation\n",
    "ani = animation.FuncAnimation(\n",
    "    fig, update, frames=range(len(a)), interval=30, blit=False\n",
    ")\n",
    "\n",
    "# Save the animation to a file\n",
    "output_file = Path(\"ok\").with_suffix(\".mp4\")\n",
    "\n",
    "FFwriter = animation.FFMpegWriter(fps=30)\n",
    "ani.save(output_file, writer=FFwriter)"
   ]
  },
  {
   "cell_type": "code",
   "execution_count": null,
   "metadata": {},
   "outputs": [],
   "source": []
  }
 ],
 "metadata": {
  "kernelspec": {
   "display_name": "pytorch-CycleGAN-and-pix2pix",
   "language": "python",
   "name": "python3"
  },
  "language_info": {
   "codemirror_mode": {
    "name": "ipython",
    "version": 3
   },
   "file_extension": ".py",
   "mimetype": "text/x-python",
   "name": "python",
   "nbconvert_exporter": "python",
   "pygments_lexer": "ipython3",
   "version": "3.11.7"
  }
 },
 "nbformat": 4,
 "nbformat_minor": 2
}
